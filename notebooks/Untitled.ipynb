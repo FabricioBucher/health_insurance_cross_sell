{
 "cells": [
  {
   "cell_type": "code",
   "execution_count": null,
   "id": "45a4666e",
   "metadata": {},
   "outputs": [],
   "source": [
    "https://www.kaggle.com/datasets/anmolkumar/health-insurance-cross-sell-prediction"
   ]
  }
 ],
 "metadata": {
  "kernelspec": {
   "display_name": "Python 3",
   "language": "python",
   "name": "python3"
  },
  "language_info": {
   "codemirror_mode": {
    "name": "ipython",
    "version": 3
   },
   "file_extension": ".py",
   "mimetype": "text/x-python",
   "name": "python",
   "nbconvert_exporter": "python",
   "pygments_lexer": "ipython3",
   "version": "3.9.15 (main, Nov 24 2022, 14:39:17) [MSC v.1916 64 bit (AMD64)]"
  },
  "vscode": {
   "interpreter": {
    "hash": "c24d062ab05a5c5341749d7cb58d215542ab025e623119731efca200babeb1f8"
   }
  }
 },
 "nbformat": 4,
 "nbformat_minor": 5
}
