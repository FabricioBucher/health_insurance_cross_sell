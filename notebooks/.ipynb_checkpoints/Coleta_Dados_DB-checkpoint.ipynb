{
 "cells": [
  {
   "cell_type": "markdown",
   "id": "84c72333",
   "metadata": {},
   "source": [
    "# 0.0) Imports"
   ]
  },
  {
   "cell_type": "code",
   "execution_count": 1,
   "id": "45cd6f97",
   "metadata": {
    "ExecuteTime": {
     "end_time": "2023-01-14T10:20:21.234620Z",
     "start_time": "2023-01-14T10:20:20.673116Z"
    }
   },
   "outputs": [],
   "source": [
    "import psycopg2 as pg\n",
    "import pandas as pd\n",
    "import pandas.io.sql as psql"
   ]
  },
  {
   "cell_type": "markdown",
   "id": "53025a1a",
   "metadata": {},
   "source": [
    "# 1.0) Schema Query"
   ]
  },
  {
   "cell_type": "code",
   "execution_count": 2,
   "id": "15568394",
   "metadata": {
    "ExecuteTime": {
     "end_time": "2023-01-14T10:20:21.250079Z",
     "start_time": "2023-01-14T10:20:21.236619Z"
    }
   },
   "outputs": [],
   "source": [
    "# Credentials\n",
    "HOST = 'comunidade-ds-postgres.c50pcakiuwi3.us-east-1.rds.amazonaws.com'\n",
    "PORT = 5432\n",
    "Database = 'comunidadedsdb'\n",
    "Username = 'member'\n",
    "Password = 'cdspa'"
   ]
  },
  {
   "cell_type": "code",
   "execution_count": 3,
   "id": "5d0cddfb",
   "metadata": {
    "ExecuteTime": {
     "end_time": "2023-01-14T10:20:23.088928Z",
     "start_time": "2023-01-14T10:20:21.259031Z"
    }
   },
   "outputs": [
    {
     "ename": "NameError",
     "evalue": "name 'c' is not defined",
     "output_type": "error",
     "traceback": [
      "\u001b[1;31m---------------------------------------------------------------------------\u001b[0m",
      "\u001b[1;31mNameError\u001b[0m                                 Traceback (most recent call last)",
      "Cell \u001b[1;32mIn[3], line 19\u001b[0m\n\u001b[0;32m     17\u001b[0m cursor\u001b[38;5;241m.\u001b[39mclose()\n\u001b[0;32m     18\u001b[0m conn\u001b[38;5;241m.\u001b[39mclose()\n\u001b[1;32m---> 19\u001b[0m \u001b[43mc\u001b[49m\n\u001b[0;32m     20\u001b[0m record\n",
      "\u001b[1;31mNameError\u001b[0m: name 'c' is not defined"
     ]
    }
   ],
   "source": [
    "conn = pg.connect( user = Username,\n",
    "                   password = Password,\n",
    "                   host = HOST, \n",
    "                   port = PORT,\n",
    "                   database = Database)\n",
    "\n",
    "cursor = conn.cursor()\n",
    "\n",
    "query_schema = \"\"\"\n",
    "    Select nspname\n",
    "    FROM pg_catalog.pg_namespace\n",
    "\"\"\"\n",
    "\n",
    "cursor.execute(query_schema)\n",
    "\n",
    "record = cursor.fetchall()\n",
    "cursor.close()\n",
    "conn.close()\n",
    "\n",
    "record"
   ]
  },
  {
   "cell_type": "markdown",
   "id": "e0afa4a8",
   "metadata": {},
   "source": [
    "# 2.0) Table Query"
   ]
  },
  {
   "cell_type": "code",
   "execution_count": null,
   "id": "27ef7666",
   "metadata": {
    "ExecuteTime": {
     "end_time": "2023-01-14T10:20:23.091896Z",
     "start_time": "2023-01-14T10:20:23.091896Z"
    }
   },
   "outputs": [],
   "source": [
    "conn = pg.connect( user = Username,\n",
    "                   password = Password,\n",
    "                   host = HOST, \n",
    "                   port = PORT,\n",
    "                   database = Database)\n",
    "\n",
    "cursor = conn.cursor()\n",
    "\n",
    "query_tables = \"\"\"\n",
    "    Select tablename\n",
    "    FROM pg_tables\n",
    "    WHERE schemaname='pa004'\n",
    "\"\"\"\n",
    "\n",
    "cursor.execute(query_tables)\n",
    "\n",
    "record = cursor.fetchall()\n",
    "cursor.close()\n",
    "conn.close()\n",
    "\n",
    "record"
   ]
  },
  {
   "cell_type": "markdown",
   "id": "48a99f2a",
   "metadata": {},
   "source": [
    "# 3.0) Collect Data Using Psycopg2"
   ]
  },
  {
   "cell_type": "code",
   "execution_count": null,
   "id": "3d4d6adf",
   "metadata": {
    "ExecuteTime": {
     "end_time": "2023-01-14T10:20:23.094414Z",
     "start_time": "2023-01-14T10:20:23.094414Z"
    }
   },
   "outputs": [],
   "source": [
    "conn = pg.connect( user = Username,\n",
    "                   password = Password,\n",
    "                   host = HOST, \n",
    "                   port = PORT,\n",
    "                   database = Database)\n",
    "\n",
    "cursor = conn.cursor()\n",
    "\n",
    "query_tables_users = \"\"\"\n",
    "    Select *\n",
    "    FROM pa004.users\n",
    "\"\"\"\n",
    "\n",
    "cursor.execute(query_tables_users)\n",
    "\n",
    "record = cursor.fetchall()\n",
    "cursor.close()\n",
    "conn.close()\n",
    "\n",
    "record"
   ]
  },
  {
   "cell_type": "markdown",
   "id": "9e5fcea0",
   "metadata": {},
   "source": [
    "# 4.0) Collect Data Using Pandas"
   ]
  },
  {
   "cell_type": "code",
   "execution_count": null,
   "id": "08de1a91",
   "metadata": {
    "ExecuteTime": {
     "end_time": "2023-01-14T10:20:23.097415Z",
     "start_time": "2023-01-14T10:20:23.097415Z"
    }
   },
   "outputs": [],
   "source": [
    "conn = pg.connect( user = Username,\n",
    "                   password = Password,\n",
    "                   host = HOST, \n",
    "                   port = PORT,\n",
    "                   database = Database)\n",
    "\n",
    "query_tables_users = \"\"\"\n",
    "    Select *\n",
    "    FROM pa004.users\n",
    "\"\"\"\n",
    "\n",
    "df = psql.read_sql(query_tables_users, conn)\n",
    "df"
   ]
  },
  {
   "cell_type": "code",
   "execution_count": null,
   "id": "acb40a0a",
   "metadata": {
    "ExecuteTime": {
     "end_time": "2023-01-14T10:20:23.099416Z",
     "start_time": "2023-01-14T10:20:23.099416Z"
    }
   },
   "outputs": [],
   "source": [
    "df.info()"
   ]
  },
  {
   "cell_type": "code",
   "execution_count": null,
   "id": "7866ec9b",
   "metadata": {
    "ExecuteTime": {
     "end_time": "2023-01-14T10:20:23.101414Z",
     "start_time": "2023-01-14T10:20:23.101414Z"
    }
   },
   "outputs": [],
   "source": [
    "query_tables_vehicle = \"\"\"\n",
    "    Select *\n",
    "    FROM pa004.vehicle\n",
    "\"\"\"\n",
    "df1 = pd.read_sql(query_tables_vehicle,conn)\n",
    "df1"
   ]
  },
  {
   "cell_type": "code",
   "execution_count": null,
   "id": "e4bf51f8",
   "metadata": {
    "ExecuteTime": {
     "end_time": "2023-01-14T10:20:23.104416Z",
     "start_time": "2023-01-14T10:20:23.104416Z"
    }
   },
   "outputs": [],
   "source": [
    "df1.info()"
   ]
  },
  {
   "cell_type": "code",
   "execution_count": null,
   "id": "6257c0b7",
   "metadata": {
    "ExecuteTime": {
     "end_time": "2023-01-14T10:20:23.106414Z",
     "start_time": "2023-01-14T10:20:23.106414Z"
    }
   },
   "outputs": [],
   "source": [
    "query_tables_insurance = \"\"\"\n",
    "    Select *\n",
    "    FROM pa004.insurance\n",
    "\"\"\"\n",
    "df2 = pd.read_sql(query_tables_insurance,conn)\n",
    "conn.close()\n",
    "df2"
   ]
  },
  {
   "cell_type": "code",
   "execution_count": null,
   "id": "90b2b9b6",
   "metadata": {
    "ExecuteTime": {
     "end_time": "2023-01-14T10:20:23.108413Z",
     "start_time": "2023-01-14T10:20:23.108413Z"
    }
   },
   "outputs": [],
   "source": [
    "df2.info()"
   ]
  },
  {
   "cell_type": "markdown",
   "id": "fbf5b1be",
   "metadata": {},
   "source": [
    "# 5.0) Preparing DF_RAW"
   ]
  },
  {
   "cell_type": "code",
   "execution_count": null,
   "id": "852fd47e",
   "metadata": {
    "ExecuteTime": {
     "end_time": "2023-01-14T10:20:23.110415Z",
     "start_time": "2023-01-14T10:20:23.110415Z"
    }
   },
   "outputs": [],
   "source": [
    "df3 = df.merge(df1)\n",
    "df_raw = df3.merge(df2)"
   ]
  },
  {
   "cell_type": "code",
   "execution_count": null,
   "id": "dd5e01e7",
   "metadata": {
    "ExecuteTime": {
     "end_time": "2023-01-14T10:20:23.112414Z",
     "start_time": "2023-01-14T10:20:23.112414Z"
    }
   },
   "outputs": [],
   "source": [
    "df_raw"
   ]
  },
  {
   "cell_type": "code",
   "execution_count": null,
   "id": "b276c75d",
   "metadata": {},
   "outputs": [],
   "source": []
  }
 ],
 "metadata": {
  "kernelspec": {
   "display_name": "Python 3 (ipykernel)",
   "language": "python",
   "name": "python3"
  },
  "language_info": {
   "codemirror_mode": {
    "name": "ipython",
    "version": 3
   },
   "file_extension": ".py",
   "mimetype": "text/x-python",
   "name": "python",
   "nbconvert_exporter": "python",
   "pygments_lexer": "ipython3",
   "version": "3.9.15"
  }
 },
 "nbformat": 4,
 "nbformat_minor": 5
}
